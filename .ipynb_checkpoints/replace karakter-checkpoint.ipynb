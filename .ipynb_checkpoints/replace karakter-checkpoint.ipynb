{
 "cells": [
  {
   "cell_type": "code",
   "execution_count": 2,
   "metadata": {},
   "outputs": [],
   "source": [
    "oo = \"Yάήģģ άмάήή ράşţίί👌🏼чάήģģ άмρùħħ ράşţίί👌🏼чάήģģ ţάήράά έғέķşάмρίήģģ ράşţίί👌🏼чάήģģ ρέŕмάήέήή ħάşίĻήчάά ţέήţùù ίήşţάģŕάмήчάά @INDONESIA.HERBAL.CENTER_ID 💞💞💞 мάķάşίħħ şόĻùşίί ţέŕвάίķήчάά чάά ∂όķķ @INDONESIA.HERBAL.CENTER_ID 💞💞💞 мάķάşίħħ јùģάά ķάά άчùù ρέŕήάħħ şέмρέţţ şάŕάήίήή Ļάρчùù😘😘😘 ίήғόό ķόήşùĻţάşίί ħùвùήģίί Ļάήģşùήģģ νίάά ώħάţşş άρρşş +62859110241665 📲\""
   ]
  },
  {
   "cell_type": "code",
   "execution_count": 9,
   "metadata": {},
   "outputs": [],
   "source": [
    "z = \"Yάήģģ άмάήή ράşţίί чάήģģ άмρùħħ ράşţίί чάήģģ ţάήράά έғέķşάмρίήģģ ράşţίί чάήģģ ρέŕмάήέήή ħάşίĻήчάά ţέήţùù ίήşţάģŕάмήчάά мάķάşίħħ şόĻùşίί ţέŕвάίķήчάά чάά ∂όķķ мάķάşίħħ јùģάά ķάά άчùù ρέŕήάħħ şέмρέţţ şάŕάήίήή Ļάρчùù ίήғόό ķόήşùĻţάşίί ħùвùήģίί Ļάήģşùήģģ νίάά ώħάţşş άρρşş\"\n",
    "#set(z)\n"
   ]
  },
  {
   "cell_type": "code",
   "execution_count": 30,
   "metadata": {},
   "outputs": [
    {
     "name": "stdout",
     "output_type": "stream",
     "text": [
      "u\n",
      "g\n",
      "h\n",
      "r\n",
      "s\n",
      "t\n",
      "a\n",
      "e\n",
      "n\n",
      "i\n",
      "p\n",
      "o\n",
      "w\n",
      "b\n",
      "m\n",
      "y\n",
      "f\n",
      "d\n",
      "k\n",
      "l\n"
     ]
    }
   ],
   "source": [
    "x = ['ù','ģ','ħ','ŕ','ş','ţ','ά','έ','ή','ί','ρ','ό','ώ','в','м','ч','ғ','∂',\"ķ\",\"Ļ\"] #'ù','ģ','ħ','ķ','ŕ','ş','ţ','ά','έ','ή','ί','ν','ρ','ό','ώ','в','м','ч','ј','ғ','∂'\n",
    "y = [\"u\",\"g\",\"h\",\"r\",\"s\",\"t\",\"a\",\"e\",\"n\",\"i\",\"p\",\"o\",\"w\",\"b\",\"m\",\"y\",\"f\",\"d\",\"k\",\"l\"] \n",
    "\n",
    "for i in y:\n",
    "    print(i)"
   ]
  },
  {
   "cell_type": "code",
   "execution_count": 25,
   "metadata": {},
   "outputs": [
    {
     "data": {
      "text/plain": [
       "'Kërrëëën bġт ëmġ prödυĸ därιl @INDONESIA.HERBAL.CENTER_ID 💞💞💞 äläт pëmbëѕär päÿυdäränÿä ĸä ѕëläιn bιѕä mëmbëѕärĸän päÿυdärä, päнä ѕämä përυт äĸυ jυġä υdн ĸëċιl . mυlтιfυnġѕι bänġëт ÿä.+62859110241665 📲'"
      ]
     },
     "execution_count": 25,
     "metadata": {},
     "output_type": "execute_result"
    }
   ],
   "source": [
    "for i in range(len(x)):\n",
    "    if i == 0:\n",
    "        n_word = z2\n",
    "    n_word = n_word.replace(x[i],y[i])\n",
    "    \n",
    "n_word"
   ]
  },
  {
   "cell_type": "code",
   "execution_count": 131,
   "metadata": {},
   "outputs": [],
   "source": [
    "cc = \"Աαյαհ ճísα lҽճíհ sҽհαԵ ժαղ ճҽɾsíհ ժҽղցαղ ตαskҽɾ sթíɾմlíղα kαk ตαskҽɾ sթíɾմlíղα αժαlαհ ตαskҽɾ հҽɾճαl cօcօk մղԵմk sҽตմα յҽղís kմlíԵ, sօlմsí kմlíԵ ճҽɾตíղվαk, kօตҽժօ, ղմԵɾísí kմlíԵ sҽcαɾα αlαตí ตҽղcҽցαհ kҽɾմsαkαղ kմlíԵ αkíճαԵ cɾҽαต ตαkҽ մթ ցααα αժα sαlαհղվααα cҽk íց kαk մղԵմk líαԵ ԵҽsԵíตօղíղվα ճísα յմցα lαղցsմղց ահαԵsհαթթ\"\n",
    "#for i in list(set(cc)):\n",
    "\n",
    "    #print(i)"
   ]
  },
  {
   "cell_type": "code",
   "execution_count": 33,
   "metadata": {},
   "outputs": [],
   "source": [
    "def test(str):\n",
    "    for i in range(len(x)):\n",
    "        if i == 0:\n",
    "            n_word = str\n",
    "        n_word = n_word.replace(x[i],y[i])\n",
    "    return n_word"
   ]
  },
  {
   "cell_type": "code",
   "execution_count": 2,
   "metadata": {},
   "outputs": [],
   "source": [
    "import pandas as pd"
   ]
  },
  {
   "cell_type": "code",
   "execution_count": 147,
   "metadata": {},
   "outputs": [],
   "source": [
    "z2= r\"\"\"Тнχ уα кαк υ∂αн 🙏 ѕαяαиιи αкυ ραкαι ρяσ∂υк ρєℓαиgѕιиg ∂αяι #@DR.DINDA.FASHIONBEAUTY вα∂αи αкυ gк gємυк ℓαgι🙌😅😍 мαкιи ρєя¢αуα ∂ιяι , gк ѕια ѕια ∂єн кσиѕυмѕι ρяσ∂υк нєявαℓ ρєℓαиgѕιиg ∂αяι #@DR.DINDA.FASHIONBEAUTY кσиѕυℓтαѕιкαи ℓαиgѕυиg ωнαтαρρ 0895635365789\n",
    "\"\"\""
   ]
  },
  {
   "cell_type": "code",
   "execution_count": 148,
   "metadata": {
    "scrolled": true
   },
   "outputs": [
    {
     "name": "stdout",
     "output_type": "stream",
     "text": [
      "Кak aku gatau harus bilanggggg apa lg ,soalnya kaka udah ngebantu aku banget kak ,kulit aku awalnya kusam dan agak gelap tapi setelah aku pake produk pemutih 👉👉👉 #@DR.DINDA.FASHIONBEAUTY yg kaka kenalin ke aku ,aku jadi tambah cerah kak  makasih ya kak💋💖💖 . konsultasikan langsung whatsapp :  0895635365789\n",
      "\n",
      "+++++++++++++++++++++++++++++++++++++++++++++++++++++++++++++++++++++\n",
      "kak aku gatau harus bilanggggg apa lg ,soalnya kaka udah ngebantu aku banget kak ,kulit aku awalnya kusam dan agak gelap tapi setelah aku pake produk pemutih  #@dr.dinda.fashionbeauty yg kaka kenalin ke aku ,aku jadi tambah cerah kak  makasih ya kak . konsultasikan langsung whatsapp :  0895635365789\n",
      "\n"
     ]
    }
   ],
   "source": [
    "fo = pd.read_excel('data/karakter.xlsx', sheet_name='Sheet1')\n",
    "x = fo['karakter'].tolist() #\n",
    "y = fo['replace'].tolist()\n",
    "print(test(z2))\n",
    "print(\"+++++++++++++++++++++++++++++++++++++++++++++++++++++++++++++++++++++\")\n",
    "print(unidecode(test(z2)).lower())"
   ]
  },
  {
   "cell_type": "code",
   "execution_count": null,
   "metadata": {},
   "outputs": [],
   "source": [
    "ß"
   ]
  },
  {
   "cell_type": "code",
   "execution_count": 77,
   "metadata": {},
   "outputs": [
    {
     "name": "stdout",
     "output_type": "stream",
     "text": [
      "ok\n"
     ]
    }
   ],
   "source": [
    "if \"l\"==\"l\":\n",
    "    print(\"ok\")"
   ]
  },
  {
   "cell_type": "code",
   "execution_count": 144,
   "metadata": {},
   "outputs": [
    {
     "name": "stdout",
     "output_type": "stream",
     "text": [
      "Ў\n",
      "ў\n",
      "Б\n",
      "б\n",
      "Ё\n",
      "ё\n",
      "Й\n",
      "й\n",
      "Л\n",
      "л\n",
      "П\n",
      "п\n",
      "Ц\n",
      "ц\n",
      "Ч\n",
      "ч\n",
      "Э\n",
      "э\n",
      "Я\n",
      "я\n"
     ]
    }
   ],
   "source": [
    "llk = \"ЎўБбЁёЙйЛлПпЦцЧчЭэЯя\"\n",
    "for i in llk:\n",
    "    print(i)"
   ]
  },
  {
   "cell_type": "code",
   "execution_count": null,
   "metadata": {},
   "outputs": [],
   "source": []
  },
  {
   "cell_type": "code",
   "execution_count": 134,
   "metadata": {
    "scrolled": false
   },
   "outputs": [
    {
     "name": "stdout",
     "output_type": "stream",
     "text": [
      "makasih ya udh kenalin aku sama @beautystore_155 aku puuaaass buanget kak, kulit aku jd kenyal dan cerah bgt, mksh ya kak hehe.\n"
     ]
    }
   ],
   "source": [
    "from unidecode import unidecode\n",
    "T = \"ḊḕḀṙ ₲ØĐ, p̾l̾e̾a̾s̾e ḧḕḶṖ ṁḕ\"\n",
    "print(unidecode(test(z2)).lower())\n",
    "#print(unidecode(z2).lower())"
   ]
  }
 ],
 "metadata": {
  "kernelspec": {
   "display_name": "Python 3",
   "language": "python",
   "name": "python3"
  },
  "language_info": {
   "codemirror_mode": {
    "name": "ipython",
    "version": 3
   },
   "file_extension": ".py",
   "mimetype": "text/x-python",
   "name": "python",
   "nbconvert_exporter": "python",
   "pygments_lexer": "ipython3",
   "version": "3.7.0"
  }
 },
 "nbformat": 4,
 "nbformat_minor": 2
}
